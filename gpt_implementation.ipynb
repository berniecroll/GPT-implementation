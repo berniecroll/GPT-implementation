{
  "nbformat": 4,
  "nbformat_minor": 0,
  "metadata": {
    "colab": {
      "provenance": [],
      "authorship_tag": "ABX9TyNxnWaJ8UIIZxTYgh0dYC7c"
    },
    "kernelspec": {
      "name": "python3",
      "display_name": "Python 3"
    },
    "language_info": {
      "name": "python"
    }
  },
  "cells": [
    {
      "cell_type": "code",
      "execution_count": 1,
      "metadata": {
        "id": "lhpH1skUei1c"
      },
      "outputs": [],
      "source": [
        "### test"
      ]
    },
    {
      "cell_type": "code",
      "source": [],
      "metadata": {
        "id": "jABUavT2oYeU"
      },
      "execution_count": null,
      "outputs": []
    }
  ]
}